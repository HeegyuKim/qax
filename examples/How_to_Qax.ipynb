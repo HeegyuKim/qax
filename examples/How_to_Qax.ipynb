{
 "cells": [
  {
   "cell_type": "code",
   "execution_count": null,
   "id": "27a0df77",
   "metadata": {},
   "outputs": [],
   "source": [
    "!pip install qax\n",
    "!pip install transformers"
   ]
  },
  {
   "cell_type": "code",
   "execution_count": 1,
   "id": "5c74d7d5",
   "metadata": {},
   "outputs": [],
   "source": [
    "from dataclasses import dataclass\n",
    "from functools import partial\n",
    "import warnings\n",
    "\n",
    "import jax\n",
    "import jax.numpy as jnp\n",
    "import optax\n",
    "import transformers\n",
    "import qax"
   ]
  },
  {
   "cell_type": "markdown",
   "id": "dad94c8b",
   "metadata": {},
   "source": [
    "# Qax: If it quacks like a tensor...\n",
    "[Qax](https://github.com/davisyoshida/qax) is a tool for implementing types which represent tensors, but aren't actually instantiated as a single dense array on your GPU. Examples of this include:\n",
    "* Quantization: A 4-bit array of integers + a small number of scale values are used to represent a full 16/32-bit array\n",
    "* LoRA: An array $W$ is replaced by the array $(W + BA^T)$ so that $A$ and $B$ may be trained while leaving $W$ frozen\n",
    "* Symbolic zeros/constants: For arrays which will consist entirely of a single repeated value, simply store that single value and the shape of the array\n",
    "* Custom kernels: If you have a custom kernel and want to use it with existing models without modifying them, Qax is an easy way to do so\n",
    "* Hopefully many more things!\n",
    "\n",
    "The goal of Qax is to make implementing custom JAX behavior much easier, so that users won't need to deal with all the details of writing a full JAX transform. All you need to do to get custom representations is:\n",
    "\n",
    "1. Write a function which describes how to construct a dense array from your representation\n",
    "2. Optionally write any number of handlers which specify how your arrays behave under JAX primitives such as multiplication\n",
    "\n",
    "Both of the above are written in pure JAX, so you don't need to implement any custom gradients or anything (unless you want to of course)."
   ]
  },
  {
   "cell_type": "markdown",
   "id": "63481ec3",
   "metadata": {},
   "source": [
    "## Installation\n",
    "```\n",
    "pip install qax\n",
    "```"
   ]
  },
  {
   "cell_type": "markdown",
   "id": "7d2b7bd4",
   "metadata": {},
   "source": [
    "## Example 1: A symbolic zero\n",
    "The way you specify custom behavior with Qax is to subclass the `qax.ImplicitArray` abstract class. One of the simplest things we could implement is a symbolic zero: A data type which represents an arbitrary tensor full of zeros without actually instantiating them on the GPU."
   ]
  },
  {
   "cell_type": "code",
   "execution_count": 2,
   "id": "a0549d40",
   "metadata": {},
   "outputs": [],
   "source": [
    "class Zeros(qax.ImplicitArray):\n",
    "    default_dtype = jnp.float32\n",
    "\n",
    "    def materialize(self):\n",
    "        # self.shape and self.dtype will be\n",
    "        # populated by the ImplicitArray constructor\n",
    "        return jnp.zeros(self.shape, self.dtype)\n",
    "    \n",
    "    def __str__(self):\n",
    "        return f'Zeros({self.shape}, {self.dtype})'"
   ]
  },
  {
   "cell_type": "markdown",
   "id": "69327946",
   "metadata": {},
   "source": [
    "The only mandatory method to implement when subclassing `ImplicitArray` is `materialize()`.\n",
    "`materialize()` specifies how to turn our _implicitly_ represented array into an _explicit_ one, i.e. a single dense JAX array. In the case of `Zeros`, we can just call `jnp.zeros`.\n",
    "\n",
    "Let's instantiate a `Zeros` instance to try it out:"
   ]
  },
  {
   "cell_type": "code",
   "execution_count": 3,
   "id": "709e7de7",
   "metadata": {},
   "outputs": [],
   "source": [
    "z = Zeros(shape=(2, 3))"
   ]
  },
  {
   "cell_type": "markdown",
   "id": "2fe010e2",
   "metadata": {},
   "source": [
    "ImplicitArrays are [dataclasses](https://docs.python.org/3/library/dataclasses.html), which by default have two keyword only attributes: `shape` and `dtype`.\n",
    "\n",
    "By default JAX won't know how to use our new type. In order to use it in functions, we apply the `@use_implicit_args` decorator:"
   ]
  },
  {
   "cell_type": "code",
   "execution_count": 4,
   "id": "58255519",
   "metadata": {},
   "outputs": [],
   "source": [
    "@qax.use_implicit_args\n",
    "def f(x, y):\n",
    "    return (x + y)[0, 0]"
   ]
  },
  {
   "cell_type": "code",
   "execution_count": 5,
   "id": "a501fa3a",
   "metadata": {},
   "outputs": [
    {
     "name": "stderr",
     "output_type": "stream",
     "text": [
      "qax/implicit_array.py:289: UserWarning: Primitive add was not handled by class Zeros, so implicit args will be materialized.\n",
      "  warnings.warn(f'Primitive {primitive.name} was not handled by class {vals[implicit_idx].__class__.__name__}, so implicit args will be materialized.')\n"
     ]
    },
    {
     "name": "stdout",
     "output_type": "stream",
     "text": [
      "1.0\n"
     ]
    }
   ],
   "source": [
    "with warnings.catch_warnings():\n",
    "    warnings.simplefilter('always')\n",
    "    print(f(z, jnp.ones(3)))"
   ]
  },
  {
   "cell_type": "markdown",
   "id": "9b57c0fa",
   "metadata": {},
   "source": [
    "The cool thing is that `f` doesn't need to have any idea that it will be called with `ImplicitArray` instances, so we can use this with any pre-existing model. Right now this isn't much use, since all `z` is being materialized into a dense array as soon as it's needed for a JAX operation.\n",
    "\n",
    "To make our `Zeros` do something productive, let's implement the fact that $x + 0$ is always equal to $x$. We do this using the `@qax.primitive_handler` decorator:"
   ]
  },
  {
   "cell_type": "code",
   "execution_count": 6,
   "id": "4030910f",
   "metadata": {},
   "outputs": [],
   "source": [
    "def get_binop_result_shape_dtype(a, b):\n",
    "    out_shape = jnp.broadcast_shapes(jnp.shape(a), jnp.shape(b))\n",
    "    out_dtype = jnp.result_type(a.dtype, b.dtype)\n",
    "    return out_shape, out_dtype\n",
    "\n",
    "# primitive_handler() takes a string, JAX primitive, or a list of those types\n",
    "# strings are used to find the corresponding primitive from `jax.lax`\n",
    "@qax.primitive_handler('add')\n",
    "def my_add_handler(primitive, a : Zeros, b):\n",
    "    # Handlers will receive as arguments:\n",
    "    # - primitive: a jax.core.Primitive instance (often can be ignored if the handler is just for one op)\n",
    "    # Any number of arguments which are either JAX values or ImplicitArrays\n",
    "    # Keyword arguments specifying parameters of the operation (e.g. axes for reduction operations)\n",
    "    \n",
    "    out_shape, out_dtype = get_binop_result_shape_dtype(a, b)\n",
    "    \n",
    "    if isinstance(b, Zeros):\n",
    "        # We can return further ImplicitArray instances if we want\n",
    "        return Zeros(shape=out_shape, dtype=out_dtype)\n",
    "    \n",
    "    # Return b, possibly modifying its shape or dtype\n",
    "    return jnp.broadcast_to(b, out_shape).astype(out_dtype)"
   ]
  },
  {
   "cell_type": "markdown",
   "id": "2e0d68e9",
   "metadata": {},
   "source": [
    "The type annotation `a : Zeros` is actually important, Qax uses [Plum](https://github.com/beartype/plum) for multiple dispatch. You can even use this to define how different subclasses of ImplicitArray should interact with each other.\n",
    "\n",
    "(For convenience, commutative binary ops like $+$ and $\\times$ will automatically get their argument order switched so that the `ImplicitArray` instance comes first.)\n",
    "\n",
    "Now when we call `f`, we no longer see the materialization log message, since our add handler is skipping over ever instantiating the array of zeros:"
   ]
  },
  {
   "cell_type": "code",
   "execution_count": 7,
   "id": "1e28b598",
   "metadata": {},
   "outputs": [
    {
     "name": "stdout",
     "output_type": "stream",
     "text": [
      "1.0\n"
     ]
    }
   ],
   "source": [
    "print(f(z, jnp.ones(3)))"
   ]
  },
  {
   "cell_type": "markdown",
   "id": "0fe4a67d",
   "metadata": {},
   "source": [
    "Let's define a multiplication handler as well, since $x \\cdot 0 = 0$ for all $x$:"
   ]
  },
  {
   "cell_type": "code",
   "execution_count": 8,
   "id": "a313cd62",
   "metadata": {},
   "outputs": [
    {
     "name": "stdout",
     "output_type": "stream",
     "text": [
      "Zeros((2, 3), float32)\n"
     ]
    }
   ],
   "source": [
    "@qax.primitive_handler('mul')\n",
    "def handle_mul(primitive, a : Zeros, b):\n",
    "    out_shape, out_dtype = get_binop_result_shape_dtype(a, b)\n",
    "    \n",
    "    return Zeros(shape=out_shape, dtype=out_dtype)\n",
    "\n",
    "\n",
    "@jax.jit\n",
    "@qax.use_implicit_args\n",
    "def g(x, y):\n",
    "    return (1 + x) * y\n",
    "\n",
    "print(g(z, z))"
   ]
  },
  {
   "cell_type": "markdown",
   "id": "9ad2027d",
   "metadata": {},
   "source": [
    "The output of `use_implicit_args` is a function which is compatible with all the usual JAX transformations such as `jit`, `vmap`, `grad`, etc.\n",
    "\n",
    "Even this simple implementation is enough to let us modify the behavior of models which were written without knowing about Qax. Let's try replacing all the biases in HuggingFace's GPT-2 with zeros:"
   ]
  },
  {
   "cell_type": "code",
   "execution_count": 9,
   "id": "1682fd45",
   "metadata": {},
   "outputs": [
    {
     "name": "stdout",
     "output_type": "stream",
     "text": [
      "New bias: [ 0.48033914 -0.5254326  -0.42926455 ...  0.01257301 -0.04987717\n",
      "  0.00324764]\n",
      "Last logit average: -105.25595\n"
     ]
    }
   ],
   "source": [
    "@qax.primitive_handler('broadcast_in_dim')\n",
    "def broadcast(primitive, a : Zeros, *, shape, broadcast_dimensions):\n",
    "    # The biases get broadcast in order to add them to the activations\n",
    "    # so we need to handle that case\n",
    "    # Sometimes the simplest thing to do is use jax.eval_shape\n",
    "    # to figure out what shape to return\n",
    "    result_shape = jax.eval_shape(\n",
    "        partial(jax.lax.broadcast_in_dim, shape=shape, broadcast_dimensions=broadcast_dimensions),\n",
    "        a.aval # ImplicitArray has an aval property which will get an abstract shape/dtype\n",
    "    ).shape\n",
    "    return Zeros(shape=result_shape, dtype=a.dtype)\n",
    "    \n",
    "\n",
    "model, params = transformers.FlaxAutoModelForCausalLM.from_pretrained('gpt2', _do_init=False)\n",
    "\n",
    "inputs = jnp.arange(1, 10)[None]\n",
    "\n",
    "# Helper function to switch all the biases\n",
    "# in the params out for some other value\n",
    "def replace_biases(params, replacer):\n",
    "    def maybe_replace_val(path, val):\n",
    "        if val.ndim != 1:\n",
    "            return val\n",
    "\n",
    "        # Skip layernorms\n",
    "        if any(\n",
    "            isinstance(p, jax.tree_util.DictKey) and p.key.startswith('ln')\n",
    "            for p in path\n",
    "        ):\n",
    "            return val\n",
    "        return replacer(shape=val.shape, dtype=val.dtype)\n",
    "    return jax.tree_util.tree_map_with_path(maybe_replace_val, params)\n",
    "\n",
    "\n",
    "# Replace the biases with dense zero arrays:\n",
    "params_with_zeros = replace_biases(params, jnp.zeros)\n",
    "print('New bias:', params['transformer']['h']['0']['attn']['c_attn']['bias'])\n",
    "\n",
    "output = model(inputs, params=params_with_zeros).logits\n",
    "print('Last logit average:', jnp.mean(output[0, -1]))"
   ]
  },
  {
   "cell_type": "markdown",
   "id": "2fb9a410",
   "metadata": {},
   "source": [
    "Now let's try replacing them with our symbolic zeros instead:"
   ]
  },
  {
   "cell_type": "code",
   "execution_count": 10,
   "id": "3cc5c534",
   "metadata": {},
   "outputs": [
    {
     "name": "stdout",
     "output_type": "stream",
     "text": [
      "New bias: [ 0.48033914 -0.5254326  -0.42926455 ...  0.01257301 -0.04987717\n",
      "  0.00324764]\n",
      "Last logit average: -105.25595\n"
     ]
    }
   ],
   "source": [
    "params_with_zeros = replace_biases(params, Zeros)\n",
    "print('New bias:', params['transformer']['h']['0']['attn']['c_attn']['bias'])\n",
    "\n",
    "# In this case since we're calling the model directly, we need to\n",
    "# wrap it so we can pass params in a positional argument\n",
    "# This usually won't be an issue since the call to the model will\n",
    "# be inside a loss function or some other function\n",
    "\n",
    "output = qax.use_implicit_args(model)(inputs, params=params_with_zeros).logits\n",
    "print('Last logit average:', jnp.mean(output[0, -1]))"
   ]
  },
  {
   "cell_type": "code",
   "execution_count": 11,
   "id": "b219ec93",
   "metadata": {},
   "outputs": [],
   "source": [
    "del model\n",
    "del params"
   ]
  },
  {
   "cell_type": "markdown",
   "id": "fc84e060",
   "metadata": {},
   "source": [
    "We got the same result, but using 0 FLOPs for adding the biases! If you really wanted to flesh out the behavior of `Zeros`, you could also add handlers defining its output for primitives such as `sin`, `cos`, etc. Let's move on to something more interesting though."
   ]
  },
  {
   "cell_type": "markdown",
   "id": "47861972",
   "metadata": {},
   "source": [
    "## Example 2: LoRA\n",
    "In this example we'll implement [LoRA](https://arxiv.org/abs/2106.09685) in just a few lines of code. Unlike the `Zeros` example from the previous section, our `ImplicitArray` subclass will actually contain data this time. As such we'll need to implement flattening/unflattening logic, since all `ImplicitArray` subclasses are pytrees. This also means you can use `tree_map` and friends to manipulate them.\n",
    "\n",
    "To add child pytrees to a subclass, we just add them as dataclass attributes. To add auxilary data, you can wrap a field with `qax.aux_field` which is just a wrapper around `dataclass.field`.\n",
    "\n",
    "LoRA replaces a matrix $W$ with the matrix $W_0 + AB^T$, so we'll have three arrays as new attributes."
   ]
  },
  {
   "cell_type": "code",
   "execution_count": 12,
   "id": "14caac69",
   "metadata": {},
   "outputs": [],
   "source": [
    "@dataclass\n",
    "class LoraMatrix(qax.ImplicitArray):\n",
    "    \"\"\"Represent W + A B^T\"\"\"\n",
    "    w : qax.ArrayValue\n",
    "    a : qax.ArrayValue\n",
    "    b : qax.ArrayValue\n",
    "        \n",
    "    # auxiliary data example\n",
    "    is_array_happy : bool = qax.aux_field(default=True)\n",
    "        \n",
    "    def __post_init__(self):\n",
    "        # If you need to do any validation, you can override the __post_init__ method\n",
    "        # This example is purely for error checking, but you can also\n",
    "        # add manipulations of the attributes\n",
    "        super().__post_init__()\n",
    "        w_aval = jax.core.get_aval(self.w)\n",
    "        a_aval = jax.core.get_aval(self.a)\n",
    "        b_aval = jax.core.get_aval(self.b)\n",
    "        assert w_aval.ndim == a_aval.ndim == b_aval.ndim == 2\n",
    "        assert a_aval.shape[1] == b_aval.shape[1]\n",
    "        assert a_aval.shape[0] == w_aval.shape[0]\n",
    "        assert b_aval.shape[0] == w_aval.shape[1]\n",
    "        assert a_aval.dtype == b_aval.dtype == w_aval.dtype\n",
    "\n",
    "    def materialize(self):\n",
    "        return self.w + self.a @ self.b.T\n",
    "\n",
    "@qax.primitive_handler('dot_general')\n",
    "def f(primitive, x : jax.Array, w : LoraMatrix, *, dimension_numbers, **kwargs):\n",
    "    # For this example, we'll only handle the simple case of of x @ w, rather than\n",
    "    # all possible dot_general invocations\n",
    "    (lhs_contract, rhs_contract), (lhs_batch, rhs_batch) = dimension_numbers\n",
    "    \n",
    "    # This check just makes sure that all that's happening is a simple matmul\n",
    "    if not (\n",
    "        len(w.shape) == 2\n",
    "        and lhs_contract == (x.ndim - 1,)\n",
    "        and rhs_contract == (0,)\n",
    "        and lhs_batch == ()\n",
    "        and rhs_batch == ()\n",
    "    ):\n",
    "        # If we want to only partially handle a particular primitive,\n",
    "        # we can fall back to the default logic by returning NotImplemented\n",
    "        return NotImplemented\n",
    "\n",
    "    kwargs = {**kwargs, 'dimension_numbers': dimension_numbers}\n",
    "    # In order to defer to the default implementation of the primitive,\n",
    "    # use the qax.default_handler helper:\n",
    "    result = qax.default_handler(\n",
    "        primitive, # pass the primitive\n",
    "        x, w.w,    # Any number of positional arguments,\n",
    "        **kwargs   # Then the primitive's keyword args           \n",
    "    )\n",
    "    \n",
    "    xa = qax.default_handler(primitive, x, w.a, **kwargs)\n",
    "    \n",
    "    xab = qax.default_handler(primitive, xa, w.b.T, **kwargs)\n",
    "\n",
    "    result += xab\n",
    "    return result\n",
    "\n",
    "def lora_from_tree(tree, key, lora_dim=8):\n",
    "    \"\"\"\n",
    "    Helper function for replacing non-embedding weight\n",
    "    matrices in T5 with LoraMatrix instances.\n",
    "    \"\"\"\n",
    "    def iter_keys(key):\n",
    "        while True:\n",
    "            key, k2 = jax.random.split(key)\n",
    "            yield k2\n",
    "            \n",
    "    key_it = iter_keys(key)\n",
    "    def map_fn(path, val):\n",
    "        if val.ndim != 2:\n",
    "            return val\n",
    "        \n",
    "        # Skip embedding params\n",
    "        if any(isinstance(p, jax.tree_util.DictKey) and p.key == 'embedding' for p in path):\n",
    "            return val\n",
    "        \n",
    "        a = jax.random.normal(next(key_it), (val.shape[0], lora_dim), val.dtype)\n",
    "        b = jnp.zeros((val.shape[1], lora_dim), val.dtype)\n",
    "        return LoraMatrix(val, a, b)       \n",
    "    \n",
    "    return jax.tree_util.tree_map_with_path(map_fn, tree)"
   ]
  },
  {
   "cell_type": "markdown",
   "id": "ce2a0958",
   "metadata": {},
   "source": [
    "Let's try it out on a T5 model:"
   ]
  },
  {
   "cell_type": "code",
   "execution_count": 13,
   "id": "26e3891e",
   "metadata": {},
   "outputs": [],
   "source": [
    "t5, params = transformers.FlaxAutoModelForSeq2SeqLM.from_pretrained('t5-small', _do_init=False)\n",
    "tokenizer = transformers.AutoTokenizer.from_pretrained('t5-small')\n",
    "encoder_inputs = jnp.asarray(tokenizer.encode('Some input'))[None]\n",
    "decoder_inputs = jnp.asarray([0] + tokenizer.encode('Some output'))[None]\n",
    "\n",
    "lora_params = lora_from_tree(params, jax.random.PRNGKey(1234))"
   ]
  },
  {
   "cell_type": "code",
   "execution_count": 14,
   "id": "f6d38e5d",
   "metadata": {},
   "outputs": [],
   "source": [
    "orig_output = t5(input_ids=encoder_inputs, decoder_input_ids=decoder_inputs, params=params).logits"
   ]
  },
  {
   "cell_type": "code",
   "execution_count": 15,
   "id": "afe08ddc",
   "metadata": {},
   "outputs": [
    {
     "name": "stdout",
     "output_type": "stream",
     "text": [
      "0.0\n"
     ]
    }
   ],
   "source": [
    "lora_output = qax.use_implicit_args(t5)(\n",
    "    input_ids=encoder_inputs,\n",
    "    decoder_input_ids=decoder_inputs,\n",
    "    params=lora_params\n",
    ").logits\n",
    "print(jnp.max(jnp.abs(lora_output - orig_output)))"
   ]
  },
  {
   "cell_type": "markdown",
   "id": "29649785",
   "metadata": {},
   "source": [
    "The LoRA result is identical to the execution of the unmodified network, and we didn't get any materialization warnings so we successfully made a LoRA forward pass without ever calculating $W + AB^T$!"
   ]
  },
  {
   "cell_type": "markdown",
   "id": "eaf56c56",
   "metadata": {},
   "source": [
    "## Training\n",
    "So far we haven't looked at how to train a model when using Qax. The main thing to understand is that you should apply `qax.use_implicit_args` first, _then_ differentiate the resulting function. `use_implicit_args` transforms the function into one which goes from pytrees to pytrees, so all the standard JAX autodiff machinery will work.\n",
    "\n",
    "If you need to update only a subset of the elements of an ImplicitArray instance (e.g. only `a` and `b` for LoRA), Qax provides `qax.utils.freeze_qax_keys` to make this easier. Here's an end-to-end example training T5 to memorize the input/output pair from above:"
   ]
  },
  {
   "cell_type": "code",
   "execution_count": 16,
   "id": "caf64fd8",
   "metadata": {},
   "outputs": [
    {
     "name": "stdout",
     "output_type": "stream",
     "text": [
      "0. 8.882\n",
      "1. 5.375\n",
      "2. 3.787\n",
      "3. 2.524\n",
      "4. 1.491\n",
      "5. 0.723\n",
      "6. 0.242\n",
      "7. 0.062\n",
      "8. 0.022\n",
      "9. 0.013\n",
      "10. 0.011\n",
      "11. 0.009\n",
      "12. 0.008\n",
      "13. 0.007\n",
      "14. 0.007\n",
      "15. 0.006\n",
      "16. 0.005\n",
      "17. 0.004\n",
      "18. 0.003\n",
      "19. 0.003\n"
     ]
    }
   ],
   "source": [
    "optimizer = optax.adam(3e-4)\n",
    "# freeze_keys_in_optimizer takes an optax optimizer, the ImplicitArray subclass to freeze for, \n",
    "# and an iterable of the keys to be frozen\n",
    "optimizer = qax.utils.freeze_qax_keys(optimizer, LoraMatrix, ['w'])\n",
    "\n",
    "# We're only using a single example so we'll just close over the training data\n",
    "# There are no code changes from an ordinary training loop other than decorating\n",
    "# loss_fn with @use_implicit_args\n",
    "\n",
    "@qax.use_implicit_args\n",
    "def loss_fn(params):\n",
    "    decoder_ids = decoder_inputs[:, :-1]\n",
    "    targets = decoder_inputs[:, 1:]\n",
    "    logits = t5(\n",
    "        input_ids=encoder_inputs,\n",
    "        decoder_input_ids=decoder_ids,\n",
    "        params=params\n",
    "    ).logits\n",
    "    \n",
    "    logprobs = jax.nn.log_softmax(logits)\n",
    "    target_logprobs = jnp.take_along_axis(logprobs, targets[:, :, None], axis=-1)\n",
    "    loss = -jnp.sum(target_logprobs)\n",
    "    return loss\n",
    "\n",
    "grad_fn = jax.value_and_grad(loss_fn)\n",
    "\n",
    "@jax.jit\n",
    "def update(params, opt_state):\n",
    "    loss, grads = grad_fn(params)\n",
    "    updates, new_opt_state = optimizer.update(grads, opt_state, params=params)\n",
    "    new_params = optax.apply_updates(updates, params)\n",
    "    return loss, new_params, new_opt_state\n",
    "\n",
    "opt_state = optimizer.init(lora_params)\n",
    "for step in range(20):\n",
    "    loss, lora_params, opt_state = update(lora_params, opt_state)\n",
    "    print(f'{step}. {loss:.3f}')"
   ]
  },
  {
   "cell_type": "markdown",
   "id": "239aadd7",
   "metadata": {},
   "source": [
    "That's all you need to know to get started using Qax!"
   ]
  },
  {
   "cell_type": "markdown",
   "id": "3d3f95e5",
   "metadata": {},
   "source": [
    "## Example 3: Nesting\n",
    "Qax supports arbitrary nesting of `ImplicitArray` instances without. Here's a quick demo combining the previous two examples:"
   ]
  },
  {
   "cell_type": "code",
   "execution_count": 17,
   "id": "4471c323",
   "metadata": {},
   "outputs": [
    {
     "name": "stdout",
     "output_type": "stream",
     "text": [
      "Original: 15.0\n",
      "With lora: 15.0\n"
     ]
    },
    {
     "name": "stderr",
     "output_type": "stream",
     "text": [
      "qax/implicit_array.py:289: UserWarning: Primitive transpose was not handled by class Zeros, so implicit args will be materialized.\n",
      "  warnings.warn(f'Primitive {primitive.name} was not handled by class {vals[implicit_idx].__class__.__name__}, so implicit args will be materialized.')\n",
      "qax/implicit_array.py:289: UserWarning: Primitive dot_general was not handled by class Zeros, so implicit args will be materialized.\n",
      "  warnings.warn(f'Primitive {primitive.name} was not handled by class {vals[implicit_idx].__class__.__name__}, so implicit args will be materialized.')\n",
      "qax/implicit_array.py:289: UserWarning: Primitive dot_general was not handled by class Zeros, so implicit args will be materialized.\n",
      "  warnings.warn(f'Primitive {primitive.name} was not handled by class {vals[implicit_idx].__class__.__name__}, so implicit args will be materialized.')\n",
      "qax/implicit_array.py:289: UserWarning: Primitive transpose was not handled by class Zeros, so implicit args will be materialized.\n",
      "  warnings.warn(f'Primitive {primitive.name} was not handled by class {vals[implicit_idx].__class__.__name__}, so implicit args will be materialized.')\n"
     ]
    }
   ],
   "source": [
    "@qax.use_implicit_args\n",
    "def g(w, x):\n",
    "    return jnp.sum(x @ w)\n",
    "\n",
    "w = jnp.ones((3, 5))\n",
    "x = jnp.arange(3, dtype=jnp.float32)\n",
    "\n",
    "lora_with_symbolic_zero = LoraMatrix(\n",
    "    w=w,\n",
    "    a=Zeros(shape=(w.shape[0], 6)),\n",
    "    b=Zeros(shape=(w.shape[1], 6))\n",
    ")\n",
    "print(f'Original: {g(w, x)}')\n",
    "with warnings.catch_warnings():\n",
    "    warnings.simplefilter('always')\n",
    "    print(f'With lora: {g(lora_with_symbolic_zero, x)}')"
   ]
  },
  {
   "cell_type": "markdown",
   "id": "4dc5044c",
   "metadata": {},
   "source": [
    "If we wanted we could write a `dot_general` handler to avoid the materialization as well, but the main point is just to illustrate that it's easy to mix and match different `ImplicitArray` subclasses. A more useful example might be using a symbolic zero as the offset for a quantization datatypes which expects both an offset and a scale."
   ]
  },
  {
   "cell_type": "markdown",
   "id": "2038e6d2",
   "metadata": {},
   "source": [
    "## Other examples\n",
    "[Here's](https://github.com/davisyoshida/abnormal-floats/blob/8421c0b4677c5cd8e527ae999b00ee4a629c3318/transform.py#L17) an example of using Qax to implement a 4-bit quantized matrix representation."
   ]
  }
 ],
 "metadata": {
  "kernelspec": {
   "display_name": "Python 3 (ipykernel)",
   "language": "python",
   "name": "python3"
  },
  "language_info": {
   "codemirror_mode": {
    "name": "ipython",
    "version": 3
   },
   "file_extension": ".py",
   "mimetype": "text/x-python",
   "name": "python",
   "nbconvert_exporter": "python",
   "pygments_lexer": "ipython3",
   "version": "3.10.10"
  }
 },
 "nbformat": 4,
 "nbformat_minor": 5
}
